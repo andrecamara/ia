{
 "cells": [
  {
   "cell_type": "markdown",
   "metadata": {},
   "source": [
    "## MLP\n",
    "\n",
    "Exemplo adaptado de \n",
    "http://scikit-learn.org/stable/auto_examples/neural_networks/plot_mlp_training_curves.html\n"
   ]
  },
  {
   "cell_type": "code",
   "execution_count": 40,
   "metadata": {},
   "outputs": [],
   "source": [
    "import matplotlib.pyplot as plt\n",
    "from sklearn import datasets, metrics, model_selection\n",
    "from sklearn.neural_network import MLPClassifier\n",
    "from sklearn.preprocessing import MinMaxScaler"
   ]
  },
  {
   "cell_type": "code",
   "execution_count": 51,
   "metadata": {},
   "outputs": [],
   "source": [
    "# different learning rate schedules and momentum parameters\n",
    "params = [{'solver': 'sgd', 'learning_rate': 'constant', 'learning_rate_init': 0.01, 'hidden_layer_sizes':(100,)},\n",
    "          {'solver': 'sgd', 'learning_rate': 'constant', 'learning_rate_init': 0.25, 'hidden_layer_sizes':(50,)}]\n",
    "\n",
    "descriptions = [\"constant learning-rate 0.01\", \n",
    "                \"constant learning-rate 0.25\"]\n",
    "\n",
    "plot_args = [{'c': 'red', 'linestyle': '-'},\n",
    "             {'c': 'blue', 'linestyle': '-'}]"
   ]
  },
  {
   "cell_type": "code",
   "execution_count": 56,
   "metadata": {},
   "outputs": [
    {
     "name": "stdout",
     "output_type": "stream",
     "text": [
      "\n",
      "learning on dataset iris\n",
      "\t constant learning-rate 0.01 - training set accuracy: 0.9714285714285714 | loss: 0.10137464911660335\n",
      "\t constant learning-rate 0.01 - test set accuracy: 0.3111111111111111\n",
      "\t constant learning-rate 0.25 - training set accuracy: 0.9714285714285714 | loss: 0.05375902724390683\n",
      "\t constant learning-rate 0.25 - test set accuracy: 0.26666666666666666\n",
      "\n",
      "learning on dataset digits\n",
      "\t constant learning-rate 0.01 - training set accuracy: 0.9968178202068417 | loss: 0.03838350120228542\n",
      "\t constant learning-rate 0.01 - test set accuracy: 0.9574074074074074\n",
      "\t constant learning-rate 0.25 - training set accuracy: 1.0 | loss: 0.0045876848180375915\n",
      "\t constant learning-rate 0.25 - test set accuracy: 0.9518518518518518\n"
     ]
    },
    {
     "data": {
      "image/png": "[encoded data removed]",
      "text/plain": [
       "<matplotlib.figure.Figure at 0x7feeba4f0710>"
      ]
     },
     "metadata": {},
     "output_type": "display_data"
    }
   ],
   "source": [
    "def plot_on_dataset(X, y, name, X_test, y_test):\n",
    "    # for each dataset, plot learning for each learning strategy\n",
    "    ax.set_title(name)\n",
    "    \n",
    "    # scale inputs\n",
    "    X = MinMaxScaler().fit_transform(X)\n",
    "    \n",
    "    mlps = []\n",
    "    max_iter = 1000\n",
    "\n",
    "    # train\n",
    "    for i,desc in enumerate(descriptions):\n",
    "        mlp = MLPClassifier(verbose=0, random_state=0, max_iter=max_iter, **params[i])\n",
    "        mlp.fit(X, y)\n",
    "        mlps.append(mlp)\n",
    "        print(\"\\t {} - training set accuracy: {} | loss: {}\".format(desc, mlp.score(X, y),mlp.loss_))\n",
    "        print(\"\\t {} - test set accuracy: {}\".format(desc, mlp.score(X_test, y_test)))\n",
    "    \n",
    "    # plot training stats\n",
    "    for mlp, label, args in zip(mlps, labels, plot_args):\n",
    "        plt.plot(mlp.loss_curve_, label=label, **args)\n",
    "\n",
    "# load datasets\n",
    "iris = datasets.load_iris()\n",
    "digits = datasets.load_digits()\n",
    "data_sets = [('iris',   iris.data,   iris.target),\n",
    "             ('digits', digits.data, digits.target)]\n",
    "\n",
    "for i,d in enumerate(data_sets):\n",
    "    name = d[0]\n",
    "    data = d[1]\n",
    "    target = d[2]\n",
    "\n",
    "    print(\"\\nlearning on dataset %s\" % name)\n",
    "    \n",
    "    # split dataset\n",
    "    X_train, X_test, y_train, y_test = model_selection.train_test_split(data, target, test_size=0.3, random_state=12345)\n",
    "\n",
    "    plt.subplot(1, 2, i+1)\n",
    "    plot_on_dataset(X=X_train, y=y_train, name=name, X_test=X_test, y_test=y_test)\n",
    "\n",
    "fig.legend(ax.get_lines(), labels, ncol=3, loc=\"upper center\")\n",
    "plt.show()"
   ]
  },
  {
   "cell_type": "markdown",
   "metadata": {},
   "source": [
    "## Naive Bayes"
   ]
  },
  {
   "cell_type": "code",
   "execution_count": 67,
   "metadata": {},
   "outputs": [
    {
     "name": "stdout",
     "output_type": "stream",
     "text": [
      "Loading 20 newsgroups dataset for categories:\n",
      "['alt.atheism', 'comp.graphics']\n",
      "1064 documents\n",
      "2 categories\n",
      "\n",
      "0.9774011299435028\n",
      "0.9703389830508474\n"
     ]
    }
   ],
   "source": [
    "from sklearn.pipeline import Pipeline\n",
    "from sklearn.datasets import fetch_20newsgroups\n",
    "from sklearn.feature_extraction.text import CountVectorizer\n",
    "from sklearn.feature_extraction.text import TfidfTransformer\n",
    "from sklearn.naive_bayes import MultinomialNB\n",
    "import numpy as np\n",
    "\n",
    "\n",
    "text_clf = Pipeline([('vect', CountVectorizer()),\n",
    "                     ('clf', MultinomialNB()),])\n",
    "\n",
    "text_clf_tfidf = Pipeline([('vect', CountVectorizer()),\n",
    "                     ('tfidf', TfidfTransformer()),\n",
    "                     ('clf', MultinomialNB()),])\n",
    "\n",
    "# #############################################################################\n",
    "# Load some categories from the training set\n",
    "categories = [\n",
    "    'alt.atheism',\n",
    "    'comp.graphics',\n",
    "]\n",
    "# Uncomment the following to do the analysis on all the categories\n",
    "#categories = None\n",
    "\n",
    "print(\"Loading 20 newsgroups dataset for categories:\")\n",
    "print(categories)\n",
    "\n",
    "twenty_train = fetch_20newsgroups(subset='train', categories=categories, shuffle=True, random_state=42)\n",
    "twenty_test = fetch_20newsgroups(subset='test', categories=categories, shuffle=True, random_state=42)\n",
    "print(\"%d documents\" % len(twenty_train.filenames))\n",
    "print(\"%d categories\" % len(twenty_train.target_names))\n",
    "print()\n",
    "\n",
    "\n",
    "# #############################################################################\n",
    "# fit data\n",
    "\n",
    "text_clf.fit(twenty_train.data, twenty_train.target)  \n",
    "text_clf_tfidf.fit(twenty_train.data, twenty_train.target)  \n",
    "\n",
    "\n",
    "\n",
    "# #############################################################################\n",
    "# evaluate\n",
    "docs_test = twenty_test.data\n",
    "predicted = text_clf.predict(docs_test)\n",
    "predicted_tfidf = text_clf_tfidf.predict(docs_test)\n",
    "\n",
    "print(np.mean(predicted == twenty_test.target))\n",
    "print(np.mean(predicted_tfidf == twenty_test.target))\n"
   ]
  },
  {
   "cell_type": "code",
   "execution_count": 68,
   "metadata": {},
   "outputs": [
    {
     "name": "stdout",
     "output_type": "stream",
     "text": [
      "               precision    recall  f1-score   support\n",
      "\n",
      "  alt.atheism       0.96      0.99      0.98       319\n",
      "comp.graphics       0.99      0.97      0.98       389\n",
      "\n",
      "  avg / total       0.98      0.98      0.98       708\n",
      "\n"
     ]
    }
   ],
   "source": [
    "from sklearn import metrics\n",
    "print(metrics.classification_report(twenty_test.target, \n",
    "                                    predicted, \n",
    "                                    target_names=twenty_test.target_names))"
   ]
  },
  {
   "cell_type": "code",
   "execution_count": 69,
   "metadata": {},
   "outputs": [
    {
     "name": "stdout",
     "output_type": "stream",
     "text": [
      "               precision    recall  f1-score   support\n",
      "\n",
      "  alt.atheism       0.95      0.99      0.97       319\n",
      "comp.graphics       0.99      0.96      0.97       389\n",
      "\n",
      "  avg / total       0.97      0.97      0.97       708\n",
      "\n"
     ]
    }
   ],
   "source": [
    "from sklearn import metrics\n",
    "print(metrics.classification_report(twenty_test.target, \n",
    "                                    predicted_tfidf, \n",
    "                                    target_names=twenty_test.target_names))"
   ]
  },
  {
   "cell_type": "code",
   "execution_count": 66,
   "metadata": {},
   "outputs": [
    {
     "name": "stdout",
     "output_type": "stream",
     "text": [
      "God is love -> alt.atheism\n",
      "OpenGL on the GPU is fast -> comp.graphics\n"
     ]
    }
   ],
   "source": [
    "docs = ['God is love', 'OpenGL on the GPU is fast']\n",
    "docs_preds = text_clf.predict(docs)\n",
    "for i,doc in enumerate(docs):\n",
    "    print('{} -> {}'.format(doc, twenty_train.target_names[docs_preds[i]]))\n",
    "    "
   ]
  },
  {
   "cell_type": "code",
   "execution_count": null,
   "metadata": {},
   "outputs": [],
   "source": []
  }
 ],
 "metadata": {
  "kernelspec": {
   "display_name": "Python 3",
   "language": "python",
   "name": "python3"
  },
  "language_info": {
   "codemirror_mode": {
    "name": "ipython",
    "version": 3
   },
   "file_extension": ".py",
   "mimetype": "text/x-python",
   "name": "python",
   "nbconvert_exporter": "python",
   "pygments_lexer": "ipython3",
   "version": "3.5.4"
  }
 },
 "nbformat": 4,
 "nbformat_minor": 2
}
